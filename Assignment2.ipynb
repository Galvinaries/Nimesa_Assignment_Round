{
  "nbformat": 4,
  "nbformat_minor": 0,
  "metadata": {
    "colab": {
      "provenance": []
    },
    "kernelspec": {
      "name": "python3",
      "display_name": "Python 3"
    },
    "language_info": {
      "name": "python"
    }
  },
  "cells": [
    {
      "cell_type": "markdown",
      "source": [
        "#Assignment 2:\n",
        "\n",
        "The assignment is based on an API, wherein you will have to use the data provided in the API and write a program to get the Weather report, wind speed and pressure from the user and get the result based on the API.\n",
        "\n",
        "\n",
        "Nimesa Technology"
      ],
      "metadata": {
        "id": "-wSXtwM_JYTB"
      }
    },
    {
      "cell_type": "code",
      "execution_count": 1,
      "metadata": {
        "colab": {
          "base_uri": "https://localhost:8080/"
        },
        "id": "bAbt58ZdJBsP",
        "outputId": "97a955c1-2588-447f-9e07-fc4ff3bae474"
      },
      "outputs": [
        {
          "output_type": "stream",
          "name": "stdout",
          "text": [
            "\n",
            "Options:\n",
            "1. Get Temperature\n",
            "2. Get Wind Speed\n",
            "3. Get Pressure\n",
            "0. Exit\n",
            "Enter your choice: 0\n",
            "Exiting the program.\n"
          ]
        }
      ],
      "source": [
        "import requests\n",
        "\n",
        "def get_weather_data():\n",
        "    url = \"https://samples.openweathermap.org/data/2.5/forecast/hourly?q=London,us&appid=b6907d289e10d714a6e88b30761fae22\"\n",
        "    response = requests.get(url)\n",
        "\n",
        "    if response.status_code == 200:\n",
        "        return response.json()\n",
        "    else:\n",
        "        print(\"Failed to fetch weather data. Exiting.\")\n",
        "        exit()\n",
        "\n",
        "def get_temperature(data, target_time):\n",
        "    for entry in data['list']:\n",
        "        if entry['dt_txt'] == target_time:\n",
        "            return entry['main']['temp']\n",
        "    return None\n",
        "\n",
        "def get_wind_speed(data, target_time):\n",
        "    for entry in data['list']:\n",
        "        if entry['dt_txt'] == target_time:\n",
        "            return entry['wind']['speed']\n",
        "    return None\n",
        "\n",
        "def get_pressure(data, target_time):\n",
        "    for entry in data['list']:\n",
        "        if entry['dt_txt'] == target_time:\n",
        "            return entry['main']['pressure']\n",
        "    return None\n",
        "\n",
        "def main():\n",
        "    weather_data = get_weather_data()\n",
        "\n",
        "    while True:\n",
        "        print(\"\\nOptions:\")\n",
        "        print(\"1. Get Temperature\")\n",
        "        print(\"2. Get Wind Speed\")\n",
        "        print(\"3. Get Pressure\")\n",
        "        print(\"0. Exit\")\n",
        "\n",
        "        choice = input(\"Enter your choice: \")\n",
        "\n",
        "        if choice == '1':\n",
        "            target_time = input(\"Enter date with time (YYYY-MM-DD HH:MM:SS): \")\n",
        "            temperature = get_temperature(weather_data, target_time)\n",
        "            if temperature is not None:\n",
        "                print(f\"Temperature at {target_time}: {temperature}°C\")\n",
        "            else:\n",
        "                print(\"Data not found for the given date and time.\")\n",
        "\n",
        "        elif choice == '2':\n",
        "            target_time = input(\"Enter date with time (YYYY-MM-DD HH:MM:SS): \")\n",
        "            wind_speed = get_wind_speed(weather_data, target_time)\n",
        "            if wind_speed is not None:\n",
        "                print(f\"Wind Speed at {target_time}: {wind_speed} m/s\")\n",
        "            else:\n",
        "                print(\"Data not found for the given date and time.\")\n",
        "\n",
        "        elif choice == '3':\n",
        "            target_time = input(\"Enter date with time (YYYY-MM-DD HH:MM:SS): \")\n",
        "            pressure = get_pressure(weather_data, target_time)\n",
        "            if pressure is not None:\n",
        "                print(f\"Pressure at {target_time}: {pressure} hPa\")\n",
        "            else:\n",
        "                print(\"Data not found for the given date and time.\")\n",
        "\n",
        "        elif choice == '0':\n",
        "            print(\"Exiting the program.\")\n",
        "            break\n",
        "\n",
        "        else:\n",
        "            print(\"Invalid choice. Please select a valid option.\")\n",
        "\n",
        "if __name__ == \"__main__\":\n",
        "    main()\n"
      ]
    }
  ]
}